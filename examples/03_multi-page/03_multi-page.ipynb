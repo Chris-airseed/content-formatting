{
 "cells": [
  {
   "cell_type": "markdown",
   "metadata": {},
   "source": [
    "#### Basic navigation\n",
    "\n",
    "Features:\n",
    " - Formatted text\n",
    " - Formatted tables including cell bg colour and horizontal merging\n",
    " - Targetted image retrieval"
   ]
  },
  {
   "cell_type": "code",
   "execution_count": 1,
   "metadata": {},
   "outputs": [],
   "source": [
    "import docx_converter as dc\n",
    "from docx import Document\n",
    "import os\n",
    "import pypandoc\n",
    "import os\n",
    "import shutil\n",
    "import json\n",
    "import re\n",
    "from collections import Counter"
   ]
  },
  {
   "cell_type": "code",
   "execution_count": 13,
   "metadata": {},
   "outputs": [],
   "source": [
    "import importlib\n",
    "\n",
    "dc = importlib.reload(dc)"
   ]
  },
  {
   "cell_type": "markdown",
   "metadata": {},
   "source": [
    "#### Testing"
   ]
  },
  {
   "cell_type": "code",
   "execution_count": 14,
   "metadata": {},
   "outputs": [
    {
     "name": "stdout",
     "output_type": "stream",
     "text": [
      "✅ Moving image: image2.png ➝ app/grovia_Carbon-PRO_Template\\assets\\image2.png\n",
      "✅ Moving image: image5.png ➝ app/grovia_Carbon-PRO_Template\\assets\\image5.png\n",
      "✅ Moving image: image22.png ➝ app/grovia_Carbon-PRO_Template\\assets\\image22.png\n",
      "\n",
      "📝 Alt Text to Image Mapping: {'image2': 'assets/image2.png', 'image5': 'assets/image5.png', 'image22': 'assets/image22.png'}\n",
      "{'image2': {'path': 'assets/image2.png', 'alt_text': ''}, 'image5': {'path': 'assets/image5.png', 'alt_text': ''}, 'image22': {'path': 'assets/image22.png', 'alt_text': ''}}\n",
      "HTML with unwanted images removed has been generated.\n",
      "Navigation JSON file and content placeholder updated successfully!\n",
      "Conversion complete! HTML file saved as app/grovia_Carbon-PRO_Template.\n"
     ]
    }
   ],
   "source": [
    "doc_path = \"data/grovia_Carbon-PRO_Template.docx\"\n",
    "output_path = f\"app/{os.path.splitext(os.path.basename(doc_path))[0]}\"\n",
    "lua_script = \"scripts/pandoc/docx_cleanup.lua\"\n",
    "\n",
    "os.makedirs(output_path, exist_ok=True)\n",
    "allowed_alt_texts = [\"timeline\"]\n",
    "\n",
    "os.makedirs(f\"{output_path}/{dc.FOLDERS['media']}\", exist_ok=True)\n",
    "os.makedirs(f\"{output_path}/{dc.FOLDERS['data']}\", exist_ok=True)\n",
    "os.makedirs(f\"{output_path}/{dc.FOLDERS['content']}\", exist_ok=True)\n",
    "\n",
    "\n",
    "## copy index.html to output_path\n",
    "shutil.copyfile(\"scripts/index.html\", f\"{output_path}/index.html\")\n",
    "if not os.path.exists(f\"{output_path}/js\"):\n",
    "    shutil.copytree(\"scripts/js\", f\"{output_path}/js\")\n",
    "if not os.path.exists(f\"{output_path}/css\"):\n",
    "    shutil.copytree(\"scripts/css\", f\"{output_path}/css\")\n",
    "\n",
    "## Extract text and table styles\n",
    "DEFAULT_STYLES = dc.extract_styles(doc_path)\n",
    "## save to json\n",
    "with open(f\"{output_path}/{dc.FOLDERS['data']}/styles.json\", 'w') as f:\n",
    "    json.dump(DEFAULT_STYLES, f, indent=2)\n",
    "\n",
    "## Extract table formating that differs from the default styles\n",
    "tables = dc.extract_table_format(doc_path, DEFAULT_STYLES)\n",
    "## save to json\n",
    "with open(f'{output_path}/{dc.FOLDERS['data']}/tables.json', 'w') as f:\n",
    "    json.dump(tables, f, indent=2)\n",
    "\n",
    "alt_text_map = dc.extract_docx_media(doc_path, output_path, dc.FOLDERS['media'], allowed_alt_texts)\n",
    "print(\"\\n📝 Alt Text to Image Mapping:\", alt_text_map)\n",
    "## convert to a list of image integers\n",
    "keep_images = [int(name.replace('image', '').replace('.png', '')) for name in alt_text_map.keys()]\n",
    "images_dict = {image: {'path': path, 'alt_text': ''} for image, path in alt_text_map.items()}\n",
    "print(images_dict)\n",
    "\n",
    "## Generate HTML from the docx file\n",
    "html = dc.convert_docx_to_html(doc_path, lua_script, keep_images)\n",
    "print(\"HTML with unwanted images removed has been generated.\")\n",
    "\n",
    "# Replace images with placeholders\n",
    "html_images, alt_text_map = dc.replace_images_with_placeholders(html, images_dict)\n",
    "\n",
    "## Save to json\n",
    "with open(f'{output_path}/{dc.FOLDERS['data']}/media.json', 'w') as f:\n",
    "    json.dump(alt_text_map, f, indent=2)\n",
    "\n",
    "# Regular expression to match tables\n",
    "table_pattern = re.compile(r'<table.*?</table>', re.DOTALL)\n",
    "\n",
    "# Reset the counter to zero before replacing tables\n",
    "counter = [0]\n",
    "html_tables_id = table_pattern.sub(lambda match: dc.table_replacer(match, counter), html_images)\n",
    "\n",
    "# Generate navigation data\n",
    "nav_data = dc.generate_navigation_data(html_tables_id)\n",
    "\n",
    "# Save navigation data to JSON file\n",
    "with open(f\"{output_path}/{dc.FOLDERS['data']}/navigation.json\", \"w\", encoding=\"utf-8\") as f:\n",
    "    json.dump(nav_data, f, indent=4)\n",
    "\n",
    "# Embed navigation data placeholder as the first element in the HTML\n",
    "if '<div data-navigation></div>' not in html_tables_id:\n",
    "    content_html = '<div data-navigation></div>\\n' + html_tables_id\n",
    "\n",
    "# Embed sub navigation data placeholder in the HTML. Place at the line above the first h2 tag of each section\n",
    "content_html = dc.insert_sub_navigation(content_html, nav_data)\n",
    "\n",
    "\n",
    "# Save the modified content.html\n",
    "with open(f\"{output_path}/{dc.FOLDERS['content']}/content.html\", \"w\", encoding=\"utf-8\") as f:\n",
    "    f.write(content_html)\n",
    "\n",
    "print(\"Navigation JSON file and content placeholder updated successfully!\")\n",
    "print(f\"Conversion complete! HTML file saved as {output_path}.\")\n"
   ]
  },
  {
   "cell_type": "code",
   "execution_count": null,
   "metadata": {},
   "outputs": [],
   "source": []
  }
 ],
 "metadata": {
  "kernelspec": {
   "display_name": ".venv",
   "language": "python",
   "name": "python3"
  },
  "language_info": {
   "codemirror_mode": {
    "name": "ipython",
    "version": 3
   },
   "file_extension": ".py",
   "mimetype": "text/x-python",
   "name": "python",
   "nbconvert_exporter": "python",
   "pygments_lexer": "ipython3",
   "version": "3.12.5"
  }
 },
 "nbformat": 4,
 "nbformat_minor": 2
}
